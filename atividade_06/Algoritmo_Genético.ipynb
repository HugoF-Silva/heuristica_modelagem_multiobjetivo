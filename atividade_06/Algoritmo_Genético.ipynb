{
  "nbformat": 4,
  "nbformat_minor": 0,
  "metadata": {
    "colab": {
      "provenance": []
    },
    "kernelspec": {
      "name": "python3",
      "display_name": "Python 3"
    },
    "language_info": {
      "name": "python"
    }
  },
  "cells": [
    {
      "cell_type": "markdown",
      "source": [
        "# Algoritmo Genético aplicado à seleção de características"
      ],
      "metadata": {
        "id": "ICmGXlsnCzes"
      }
    },
    {
      "cell_type": "markdown",
      "source": [
        "### Descrição do problema\n",
        "A cerveja é a terceira bebida mais consumida no mundo, ocupando um lugar de destaque na economia global. Devido a sua importância e a crescente exigência por parte de seus consumidores, o desenvolvimento de métodos instrumentais para garantir a qualidade do produto torna-se imprescindível. Em Cardoso et al., os autores construiram um modelo preditivo a partir de Partial Least Square Discriminant Analysis (PLS-DA) para classificar as amostras de acordo com a marca e o tipo da cerveja.\n",
        "\n",
        "A leitura do artigo citado é um importante ponto de partida para a compreensão do problema.\n",
        "\n",
        "### Objetivo\n",
        "Seu objetivo nesta competição é contruir um modelo preditivo que seja capaz de determinar a marca da cerveja associada.\n",
        "\n",
        "**Referências**\n",
        "\n",
        "Cardoso, V. G. K., Sabin, G. P., & Hantao, L. W. (2022). Rapid evaporative ionization mass spectrometry (REIMS) combined with chemometrics for real-time beer analysis. Analytical Methods, 14(15), 1540-1546.re."
      ],
      "metadata": {
        "id": "x2nFr34qxTB-"
      }
    },
    {
      "cell_type": "markdown",
      "source": [
        "### Composição do Dataset"
      ],
      "metadata": {
        "id": "SYU85ZFIxoxn"
      }
    },
    {
      "cell_type": "markdown",
      "source": [
        "São dois arquivos disponibilizados: *train.csv* e *test.csv*.\n",
        "\n",
        "O *train.csv* é composto por 195002 colunas e 201 amostras. A primeira coluna (beer_id) identifica a amostra, enquanto a última (target) indica a marca da cerveja.\n",
        "\n",
        "O objetivo é um modelo que maximize a acurácia da classificação utilizando a menor quantidade de características possível.\n",
        "\n",
        "Para testar a qualidade do modelo desenvolvido, você realizará a classificação utilizando o conjunto test.csv. Este conjunto possui 195001 colunas, 87 amostras."
      ],
      "metadata": {
        "id": "P3Dt6UyNxFCO"
      }
    },
    {
      "cell_type": "markdown",
      "source": [
        "### Implementação"
      ],
      "metadata": {
        "id": "kGAyVx75x_Ye"
      }
    },
    {
      "cell_type": "code",
      "execution_count": 1,
      "metadata": {
        "colab": {
          "base_uri": "https://localhost:8080/"
        },
        "id": "6JRa7YkGS1ef",
        "outputId": "b2face7f-2971-4614-ec05-1193a3246446"
      },
      "outputs": [
        {
          "output_type": "stream",
          "name": "stdout",
          "text": [
            "Downloading...\n",
            "From: https://drive.google.com/uc?id=1-1wrpG1mW5mUjMIQmefr8Ad_yHmiEcYE\n",
            "To: /content/train.csv\n",
            "100% 162M/162M [00:00<00:00, 187MB/s]\n",
            "Downloading...\n",
            "From: https://drive.google.com/uc?id=1-AgteTEeHZU9q26yPhA3SVMMa86fGEIc\n",
            "To: /content/x_test.csv\n",
            "100% 70.9M/70.9M [00:00<00:00, 97.6MB/s]\n",
            "Downloading...\n",
            "From: https://drive.google.com/uc?id=1-DbGNIbWxzPtceHk_U3BHd19Qoh6dKWg\n",
            "To: /content/y_test.csv\n",
            "100% 664/664 [00:00<00:00, 2.86MB/s]\n"
          ]
        }
      ],
      "source": [
        "!gdown 1-1wrpG1mW5mUjMIQmefr8Ad_yHmiEcYE\n",
        "!gdown 1-AgteTEeHZU9q26yPhA3SVMMa86fGEIc\n",
        "!gdown 1-DbGNIbWxzPtceHk_U3BHd19Qoh6dKWg"
      ]
    },
    {
      "cell_type": "markdown",
      "source": [
        "Importanto dados de treinamento"
      ],
      "metadata": {
        "id": "6gLQuNRrhgSs"
      }
    },
    {
      "cell_type": "code",
      "source": [
        "import pandas as pd\n",
        "\n",
        "train = pd.read_csv('/content/train.csv')\n",
        "train = train.set_index('beer_id')\n",
        "train.head()"
      ],
      "metadata": {
        "colab": {
          "base_uri": "https://localhost:8080/",
          "height": 267
        },
        "id": "gcrMtKL8Tnsi",
        "outputId": "7146b248-dadc-4bb6-b9b9-7fb23ddcbd26"
      },
      "execution_count": 3,
      "outputs": [
        {
          "output_type": "execute_result",
          "data": {
            "text/plain": [
              "           0    1    2    3    4    5    6    7    8    9  ...  194991  \\\n",
              "beer_id                                                    ...           \n",
              "0        0.0  1.0  2.0  8.0  0.0  0.0  0.0  0.0  0.0  2.0  ...     0.0   \n",
              "1        0.0  0.0  0.0  0.0  0.0  0.0  4.0  0.0  0.0  0.0  ...     0.0   \n",
              "2        0.0  0.0  0.0  0.0  0.0  0.0  0.0  0.0  0.0  0.0  ...     0.0   \n",
              "3        0.0  0.0  0.0  2.0  2.0  0.0  0.0  0.0  0.0  0.0  ...     2.0   \n",
              "4        0.0  0.0  0.0  1.0  0.0  0.0  0.0  0.0  0.0  0.0  ...     0.0   \n",
              "\n",
              "         194992  194993  194994  194995  194996  194997  194998  194999  \\\n",
              "beer_id                                                                   \n",
              "0           0.0     0.0     0.0     0.0     0.0     0.0     0.0     0.0   \n",
              "1           0.0     0.0     0.0     0.0     0.0     0.0     0.0     0.0   \n",
              "2           0.0     0.0     0.0     0.0     0.0     0.0     0.0     0.0   \n",
              "3           0.0     0.0     0.0     0.0     0.0     0.0     0.0     0.0   \n",
              "4           0.0     0.0     0.0     0.0     0.0     0.0     0.0     0.0   \n",
              "\n",
              "         target  \n",
              "beer_id          \n",
              "0          25.0  \n",
              "1          28.0  \n",
              "2          32.0  \n",
              "3          24.0  \n",
              "4          29.0  \n",
              "\n",
              "[5 rows x 195001 columns]"
            ],
            "text/html": [
              "\n",
              "  <div id=\"df-8461ca98-5318-4ee5-9129-c8bca9041884\">\n",
              "    <div class=\"colab-df-container\">\n",
              "      <div>\n",
              "<style scoped>\n",
              "    .dataframe tbody tr th:only-of-type {\n",
              "        vertical-align: middle;\n",
              "    }\n",
              "\n",
              "    .dataframe tbody tr th {\n",
              "        vertical-align: top;\n",
              "    }\n",
              "\n",
              "    .dataframe thead th {\n",
              "        text-align: right;\n",
              "    }\n",
              "</style>\n",
              "<table border=\"1\" class=\"dataframe\">\n",
              "  <thead>\n",
              "    <tr style=\"text-align: right;\">\n",
              "      <th></th>\n",
              "      <th>0</th>\n",
              "      <th>1</th>\n",
              "      <th>2</th>\n",
              "      <th>3</th>\n",
              "      <th>4</th>\n",
              "      <th>5</th>\n",
              "      <th>6</th>\n",
              "      <th>7</th>\n",
              "      <th>8</th>\n",
              "      <th>9</th>\n",
              "      <th>...</th>\n",
              "      <th>194991</th>\n",
              "      <th>194992</th>\n",
              "      <th>194993</th>\n",
              "      <th>194994</th>\n",
              "      <th>194995</th>\n",
              "      <th>194996</th>\n",
              "      <th>194997</th>\n",
              "      <th>194998</th>\n",
              "      <th>194999</th>\n",
              "      <th>target</th>\n",
              "    </tr>\n",
              "    <tr>\n",
              "      <th>beer_id</th>\n",
              "      <th></th>\n",
              "      <th></th>\n",
              "      <th></th>\n",
              "      <th></th>\n",
              "      <th></th>\n",
              "      <th></th>\n",
              "      <th></th>\n",
              "      <th></th>\n",
              "      <th></th>\n",
              "      <th></th>\n",
              "      <th></th>\n",
              "      <th></th>\n",
              "      <th></th>\n",
              "      <th></th>\n",
              "      <th></th>\n",
              "      <th></th>\n",
              "      <th></th>\n",
              "      <th></th>\n",
              "      <th></th>\n",
              "      <th></th>\n",
              "      <th></th>\n",
              "    </tr>\n",
              "  </thead>\n",
              "  <tbody>\n",
              "    <tr>\n",
              "      <th>0</th>\n",
              "      <td>0.0</td>\n",
              "      <td>1.0</td>\n",
              "      <td>2.0</td>\n",
              "      <td>8.0</td>\n",
              "      <td>0.0</td>\n",
              "      <td>0.0</td>\n",
              "      <td>0.0</td>\n",
              "      <td>0.0</td>\n",
              "      <td>0.0</td>\n",
              "      <td>2.0</td>\n",
              "      <td>...</td>\n",
              "      <td>0.0</td>\n",
              "      <td>0.0</td>\n",
              "      <td>0.0</td>\n",
              "      <td>0.0</td>\n",
              "      <td>0.0</td>\n",
              "      <td>0.0</td>\n",
              "      <td>0.0</td>\n",
              "      <td>0.0</td>\n",
              "      <td>0.0</td>\n",
              "      <td>25.0</td>\n",
              "    </tr>\n",
              "    <tr>\n",
              "      <th>1</th>\n",
              "      <td>0.0</td>\n",
              "      <td>0.0</td>\n",
              "      <td>0.0</td>\n",
              "      <td>0.0</td>\n",
              "      <td>0.0</td>\n",
              "      <td>0.0</td>\n",
              "      <td>4.0</td>\n",
              "      <td>0.0</td>\n",
              "      <td>0.0</td>\n",
              "      <td>0.0</td>\n",
              "      <td>...</td>\n",
              "      <td>0.0</td>\n",
              "      <td>0.0</td>\n",
              "      <td>0.0</td>\n",
              "      <td>0.0</td>\n",
              "      <td>0.0</td>\n",
              "      <td>0.0</td>\n",
              "      <td>0.0</td>\n",
              "      <td>0.0</td>\n",
              "      <td>0.0</td>\n",
              "      <td>28.0</td>\n",
              "    </tr>\n",
              "    <tr>\n",
              "      <th>2</th>\n",
              "      <td>0.0</td>\n",
              "      <td>0.0</td>\n",
              "      <td>0.0</td>\n",
              "      <td>0.0</td>\n",
              "      <td>0.0</td>\n",
              "      <td>0.0</td>\n",
              "      <td>0.0</td>\n",
              "      <td>0.0</td>\n",
              "      <td>0.0</td>\n",
              "      <td>0.0</td>\n",
              "      <td>...</td>\n",
              "      <td>0.0</td>\n",
              "      <td>0.0</td>\n",
              "      <td>0.0</td>\n",
              "      <td>0.0</td>\n",
              "      <td>0.0</td>\n",
              "      <td>0.0</td>\n",
              "      <td>0.0</td>\n",
              "      <td>0.0</td>\n",
              "      <td>0.0</td>\n",
              "      <td>32.0</td>\n",
              "    </tr>\n",
              "    <tr>\n",
              "      <th>3</th>\n",
              "      <td>0.0</td>\n",
              "      <td>0.0</td>\n",
              "      <td>0.0</td>\n",
              "      <td>2.0</td>\n",
              "      <td>2.0</td>\n",
              "      <td>0.0</td>\n",
              "      <td>0.0</td>\n",
              "      <td>0.0</td>\n",
              "      <td>0.0</td>\n",
              "      <td>0.0</td>\n",
              "      <td>...</td>\n",
              "      <td>2.0</td>\n",
              "      <td>0.0</td>\n",
              "      <td>0.0</td>\n",
              "      <td>0.0</td>\n",
              "      <td>0.0</td>\n",
              "      <td>0.0</td>\n",
              "      <td>0.0</td>\n",
              "      <td>0.0</td>\n",
              "      <td>0.0</td>\n",
              "      <td>24.0</td>\n",
              "    </tr>\n",
              "    <tr>\n",
              "      <th>4</th>\n",
              "      <td>0.0</td>\n",
              "      <td>0.0</td>\n",
              "      <td>0.0</td>\n",
              "      <td>1.0</td>\n",
              "      <td>0.0</td>\n",
              "      <td>0.0</td>\n",
              "      <td>0.0</td>\n",
              "      <td>0.0</td>\n",
              "      <td>0.0</td>\n",
              "      <td>0.0</td>\n",
              "      <td>...</td>\n",
              "      <td>0.0</td>\n",
              "      <td>0.0</td>\n",
              "      <td>0.0</td>\n",
              "      <td>0.0</td>\n",
              "      <td>0.0</td>\n",
              "      <td>0.0</td>\n",
              "      <td>0.0</td>\n",
              "      <td>0.0</td>\n",
              "      <td>0.0</td>\n",
              "      <td>29.0</td>\n",
              "    </tr>\n",
              "  </tbody>\n",
              "</table>\n",
              "<p>5 rows × 195001 columns</p>\n",
              "</div>\n",
              "      <button class=\"colab-df-convert\" onclick=\"convertToInteractive('df-8461ca98-5318-4ee5-9129-c8bca9041884')\"\n",
              "              title=\"Convert this dataframe to an interactive table.\"\n",
              "              style=\"display:none;\">\n",
              "        \n",
              "  <svg xmlns=\"http://www.w3.org/2000/svg\" height=\"24px\"viewBox=\"0 0 24 24\"\n",
              "       width=\"24px\">\n",
              "    <path d=\"M0 0h24v24H0V0z\" fill=\"none\"/>\n",
              "    <path d=\"M18.56 5.44l.94 2.06.94-2.06 2.06-.94-2.06-.94-.94-2.06-.94 2.06-2.06.94zm-11 1L8.5 8.5l.94-2.06 2.06-.94-2.06-.94L8.5 2.5l-.94 2.06-2.06.94zm10 10l.94 2.06.94-2.06 2.06-.94-2.06-.94-.94-2.06-.94 2.06-2.06.94z\"/><path d=\"M17.41 7.96l-1.37-1.37c-.4-.4-.92-.59-1.43-.59-.52 0-1.04.2-1.43.59L10.3 9.45l-7.72 7.72c-.78.78-.78 2.05 0 2.83L4 21.41c.39.39.9.59 1.41.59.51 0 1.02-.2 1.41-.59l7.78-7.78 2.81-2.81c.8-.78.8-2.07 0-2.86zM5.41 20L4 18.59l7.72-7.72 1.47 1.35L5.41 20z\"/>\n",
              "  </svg>\n",
              "      </button>\n",
              "      \n",
              "  <style>\n",
              "    .colab-df-container {\n",
              "      display:flex;\n",
              "      flex-wrap:wrap;\n",
              "      gap: 12px;\n",
              "    }\n",
              "\n",
              "    .colab-df-convert {\n",
              "      background-color: #E8F0FE;\n",
              "      border: none;\n",
              "      border-radius: 50%;\n",
              "      cursor: pointer;\n",
              "      display: none;\n",
              "      fill: #1967D2;\n",
              "      height: 32px;\n",
              "      padding: 0 0 0 0;\n",
              "      width: 32px;\n",
              "    }\n",
              "\n",
              "    .colab-df-convert:hover {\n",
              "      background-color: #E2EBFA;\n",
              "      box-shadow: 0px 1px 2px rgba(60, 64, 67, 0.3), 0px 1px 3px 1px rgba(60, 64, 67, 0.15);\n",
              "      fill: #174EA6;\n",
              "    }\n",
              "\n",
              "    [theme=dark] .colab-df-convert {\n",
              "      background-color: #3B4455;\n",
              "      fill: #D2E3FC;\n",
              "    }\n",
              "\n",
              "    [theme=dark] .colab-df-convert:hover {\n",
              "      background-color: #434B5C;\n",
              "      box-shadow: 0px 1px 3px 1px rgba(0, 0, 0, 0.15);\n",
              "      filter: drop-shadow(0px 1px 2px rgba(0, 0, 0, 0.3));\n",
              "      fill: #FFFFFF;\n",
              "    }\n",
              "  </style>\n",
              "\n",
              "      <script>\n",
              "        const buttonEl =\n",
              "          document.querySelector('#df-8461ca98-5318-4ee5-9129-c8bca9041884 button.colab-df-convert');\n",
              "        buttonEl.style.display =\n",
              "          google.colab.kernel.accessAllowed ? 'block' : 'none';\n",
              "\n",
              "        async function convertToInteractive(key) {\n",
              "          const element = document.querySelector('#df-8461ca98-5318-4ee5-9129-c8bca9041884');\n",
              "          const dataTable =\n",
              "            await google.colab.kernel.invokeFunction('convertToInteractive',\n",
              "                                                     [key], {});\n",
              "          if (!dataTable) return;\n",
              "\n",
              "          const docLinkHtml = 'Like what you see? Visit the ' +\n",
              "            '<a target=\"_blank\" href=https://colab.research.google.com/notebooks/data_table.ipynb>data table notebook</a>'\n",
              "            + ' to learn more about interactive tables.';\n",
              "          element.innerHTML = '';\n",
              "          dataTable['output_type'] = 'display_data';\n",
              "          await google.colab.output.renderOutput(dataTable, element);\n",
              "          const docLink = document.createElement('div');\n",
              "          docLink.innerHTML = docLinkHtml;\n",
              "          element.appendChild(docLink);\n",
              "        }\n",
              "      </script>\n",
              "    </div>\n",
              "  </div>\n",
              "  "
            ]
          },
          "metadata": {},
          "execution_count": 3
        }
      ]
    },
    {
      "cell_type": "markdown",
      "source": [
        "Importanto dados de teste"
      ],
      "metadata": {
        "id": "1TwK4CVIhl-D"
      }
    },
    {
      "cell_type": "code",
      "source": [
        "x_test = pd.read_csv('/content/x_test.csv')\n",
        "x_test = x_test.rename(columns={'Unnamed: 0': 'beer_id'}).set_index('beer_id')\n",
        "y_test = pd.read_csv('/content/y_test.csv')\n",
        "x_test.head()"
      ],
      "metadata": {
        "id": "ZOM2w17vbgBC",
        "colab": {
          "base_uri": "https://localhost:8080/",
          "height": 267
        },
        "outputId": "59806683-fe99-46df-d113-8ee6a2991a3e"
      },
      "execution_count": 4,
      "outputs": [
        {
          "output_type": "execute_result",
          "data": {
            "text/plain": [
              "           0    1    2    3    4    5     6    7    8    9  ...  194990  \\\n",
              "beer_id                                                     ...           \n",
              "0        0.0  0.0  0.0  0.0  0.0  0.0   0.0  1.0  2.0  0.0  ...    17.0   \n",
              "1        0.0  3.0  0.0  0.0  8.0  0.0   0.0  0.0  0.0  0.0  ...     0.0   \n",
              "2        0.0  0.0  0.0  0.0  0.0  0.0   1.0  4.0  0.0  0.0  ...     2.0   \n",
              "3        0.0  1.0  1.0  0.0  0.0  2.0  11.0  3.0  2.0  1.0  ...     0.0   \n",
              "4        0.0  0.0  0.0  0.0  5.0  3.0   0.0  2.0  0.0  0.0  ...     0.0   \n",
              "\n",
              "         194991  194992  194993  194994  194995  194996  194997  194998  \\\n",
              "beer_id                                                                   \n",
              "0           0.0     0.0     0.0     0.0     0.0     0.0     0.0     0.0   \n",
              "1           0.0     1.0     0.0     0.0     0.0     0.0     0.0     0.0   \n",
              "2           0.0     0.0     0.0     0.0     0.0     0.0     0.0     0.0   \n",
              "3           1.0     0.0     0.0     0.0     0.0     0.0     0.0     0.0   \n",
              "4           0.0     0.0     0.0     0.0     0.0     0.0     0.0     0.0   \n",
              "\n",
              "         194999  \n",
              "beer_id          \n",
              "0           0.0  \n",
              "1           0.0  \n",
              "2           0.0  \n",
              "3           0.0  \n",
              "4           0.0  \n",
              "\n",
              "[5 rows x 195000 columns]"
            ],
            "text/html": [
              "\n",
              "  <div id=\"df-51266560-bf13-4ec3-ab61-10a491209ca4\">\n",
              "    <div class=\"colab-df-container\">\n",
              "      <div>\n",
              "<style scoped>\n",
              "    .dataframe tbody tr th:only-of-type {\n",
              "        vertical-align: middle;\n",
              "    }\n",
              "\n",
              "    .dataframe tbody tr th {\n",
              "        vertical-align: top;\n",
              "    }\n",
              "\n",
              "    .dataframe thead th {\n",
              "        text-align: right;\n",
              "    }\n",
              "</style>\n",
              "<table border=\"1\" class=\"dataframe\">\n",
              "  <thead>\n",
              "    <tr style=\"text-align: right;\">\n",
              "      <th></th>\n",
              "      <th>0</th>\n",
              "      <th>1</th>\n",
              "      <th>2</th>\n",
              "      <th>3</th>\n",
              "      <th>4</th>\n",
              "      <th>5</th>\n",
              "      <th>6</th>\n",
              "      <th>7</th>\n",
              "      <th>8</th>\n",
              "      <th>9</th>\n",
              "      <th>...</th>\n",
              "      <th>194990</th>\n",
              "      <th>194991</th>\n",
              "      <th>194992</th>\n",
              "      <th>194993</th>\n",
              "      <th>194994</th>\n",
              "      <th>194995</th>\n",
              "      <th>194996</th>\n",
              "      <th>194997</th>\n",
              "      <th>194998</th>\n",
              "      <th>194999</th>\n",
              "    </tr>\n",
              "    <tr>\n",
              "      <th>beer_id</th>\n",
              "      <th></th>\n",
              "      <th></th>\n",
              "      <th></th>\n",
              "      <th></th>\n",
              "      <th></th>\n",
              "      <th></th>\n",
              "      <th></th>\n",
              "      <th></th>\n",
              "      <th></th>\n",
              "      <th></th>\n",
              "      <th></th>\n",
              "      <th></th>\n",
              "      <th></th>\n",
              "      <th></th>\n",
              "      <th></th>\n",
              "      <th></th>\n",
              "      <th></th>\n",
              "      <th></th>\n",
              "      <th></th>\n",
              "      <th></th>\n",
              "      <th></th>\n",
              "    </tr>\n",
              "  </thead>\n",
              "  <tbody>\n",
              "    <tr>\n",
              "      <th>0</th>\n",
              "      <td>0.0</td>\n",
              "      <td>0.0</td>\n",
              "      <td>0.0</td>\n",
              "      <td>0.0</td>\n",
              "      <td>0.0</td>\n",
              "      <td>0.0</td>\n",
              "      <td>0.0</td>\n",
              "      <td>1.0</td>\n",
              "      <td>2.0</td>\n",
              "      <td>0.0</td>\n",
              "      <td>...</td>\n",
              "      <td>17.0</td>\n",
              "      <td>0.0</td>\n",
              "      <td>0.0</td>\n",
              "      <td>0.0</td>\n",
              "      <td>0.0</td>\n",
              "      <td>0.0</td>\n",
              "      <td>0.0</td>\n",
              "      <td>0.0</td>\n",
              "      <td>0.0</td>\n",
              "      <td>0.0</td>\n",
              "    </tr>\n",
              "    <tr>\n",
              "      <th>1</th>\n",
              "      <td>0.0</td>\n",
              "      <td>3.0</td>\n",
              "      <td>0.0</td>\n",
              "      <td>0.0</td>\n",
              "      <td>8.0</td>\n",
              "      <td>0.0</td>\n",
              "      <td>0.0</td>\n",
              "      <td>0.0</td>\n",
              "      <td>0.0</td>\n",
              "      <td>0.0</td>\n",
              "      <td>...</td>\n",
              "      <td>0.0</td>\n",
              "      <td>0.0</td>\n",
              "      <td>1.0</td>\n",
              "      <td>0.0</td>\n",
              "      <td>0.0</td>\n",
              "      <td>0.0</td>\n",
              "      <td>0.0</td>\n",
              "      <td>0.0</td>\n",
              "      <td>0.0</td>\n",
              "      <td>0.0</td>\n",
              "    </tr>\n",
              "    <tr>\n",
              "      <th>2</th>\n",
              "      <td>0.0</td>\n",
              "      <td>0.0</td>\n",
              "      <td>0.0</td>\n",
              "      <td>0.0</td>\n",
              "      <td>0.0</td>\n",
              "      <td>0.0</td>\n",
              "      <td>1.0</td>\n",
              "      <td>4.0</td>\n",
              "      <td>0.0</td>\n",
              "      <td>0.0</td>\n",
              "      <td>...</td>\n",
              "      <td>2.0</td>\n",
              "      <td>0.0</td>\n",
              "      <td>0.0</td>\n",
              "      <td>0.0</td>\n",
              "      <td>0.0</td>\n",
              "      <td>0.0</td>\n",
              "      <td>0.0</td>\n",
              "      <td>0.0</td>\n",
              "      <td>0.0</td>\n",
              "      <td>0.0</td>\n",
              "    </tr>\n",
              "    <tr>\n",
              "      <th>3</th>\n",
              "      <td>0.0</td>\n",
              "      <td>1.0</td>\n",
              "      <td>1.0</td>\n",
              "      <td>0.0</td>\n",
              "      <td>0.0</td>\n",
              "      <td>2.0</td>\n",
              "      <td>11.0</td>\n",
              "      <td>3.0</td>\n",
              "      <td>2.0</td>\n",
              "      <td>1.0</td>\n",
              "      <td>...</td>\n",
              "      <td>0.0</td>\n",
              "      <td>1.0</td>\n",
              "      <td>0.0</td>\n",
              "      <td>0.0</td>\n",
              "      <td>0.0</td>\n",
              "      <td>0.0</td>\n",
              "      <td>0.0</td>\n",
              "      <td>0.0</td>\n",
              "      <td>0.0</td>\n",
              "      <td>0.0</td>\n",
              "    </tr>\n",
              "    <tr>\n",
              "      <th>4</th>\n",
              "      <td>0.0</td>\n",
              "      <td>0.0</td>\n",
              "      <td>0.0</td>\n",
              "      <td>0.0</td>\n",
              "      <td>5.0</td>\n",
              "      <td>3.0</td>\n",
              "      <td>0.0</td>\n",
              "      <td>2.0</td>\n",
              "      <td>0.0</td>\n",
              "      <td>0.0</td>\n",
              "      <td>...</td>\n",
              "      <td>0.0</td>\n",
              "      <td>0.0</td>\n",
              "      <td>0.0</td>\n",
              "      <td>0.0</td>\n",
              "      <td>0.0</td>\n",
              "      <td>0.0</td>\n",
              "      <td>0.0</td>\n",
              "      <td>0.0</td>\n",
              "      <td>0.0</td>\n",
              "      <td>0.0</td>\n",
              "    </tr>\n",
              "  </tbody>\n",
              "</table>\n",
              "<p>5 rows × 195000 columns</p>\n",
              "</div>\n",
              "      <button class=\"colab-df-convert\" onclick=\"convertToInteractive('df-51266560-bf13-4ec3-ab61-10a491209ca4')\"\n",
              "              title=\"Convert this dataframe to an interactive table.\"\n",
              "              style=\"display:none;\">\n",
              "        \n",
              "  <svg xmlns=\"http://www.w3.org/2000/svg\" height=\"24px\"viewBox=\"0 0 24 24\"\n",
              "       width=\"24px\">\n",
              "    <path d=\"M0 0h24v24H0V0z\" fill=\"none\"/>\n",
              "    <path d=\"M18.56 5.44l.94 2.06.94-2.06 2.06-.94-2.06-.94-.94-2.06-.94 2.06-2.06.94zm-11 1L8.5 8.5l.94-2.06 2.06-.94-2.06-.94L8.5 2.5l-.94 2.06-2.06.94zm10 10l.94 2.06.94-2.06 2.06-.94-2.06-.94-.94-2.06-.94 2.06-2.06.94z\"/><path d=\"M17.41 7.96l-1.37-1.37c-.4-.4-.92-.59-1.43-.59-.52 0-1.04.2-1.43.59L10.3 9.45l-7.72 7.72c-.78.78-.78 2.05 0 2.83L4 21.41c.39.39.9.59 1.41.59.51 0 1.02-.2 1.41-.59l7.78-7.78 2.81-2.81c.8-.78.8-2.07 0-2.86zM5.41 20L4 18.59l7.72-7.72 1.47 1.35L5.41 20z\"/>\n",
              "  </svg>\n",
              "      </button>\n",
              "      \n",
              "  <style>\n",
              "    .colab-df-container {\n",
              "      display:flex;\n",
              "      flex-wrap:wrap;\n",
              "      gap: 12px;\n",
              "    }\n",
              "\n",
              "    .colab-df-convert {\n",
              "      background-color: #E8F0FE;\n",
              "      border: none;\n",
              "      border-radius: 50%;\n",
              "      cursor: pointer;\n",
              "      display: none;\n",
              "      fill: #1967D2;\n",
              "      height: 32px;\n",
              "      padding: 0 0 0 0;\n",
              "      width: 32px;\n",
              "    }\n",
              "\n",
              "    .colab-df-convert:hover {\n",
              "      background-color: #E2EBFA;\n",
              "      box-shadow: 0px 1px 2px rgba(60, 64, 67, 0.3), 0px 1px 3px 1px rgba(60, 64, 67, 0.15);\n",
              "      fill: #174EA6;\n",
              "    }\n",
              "\n",
              "    [theme=dark] .colab-df-convert {\n",
              "      background-color: #3B4455;\n",
              "      fill: #D2E3FC;\n",
              "    }\n",
              "\n",
              "    [theme=dark] .colab-df-convert:hover {\n",
              "      background-color: #434B5C;\n",
              "      box-shadow: 0px 1px 3px 1px rgba(0, 0, 0, 0.15);\n",
              "      filter: drop-shadow(0px 1px 2px rgba(0, 0, 0, 0.3));\n",
              "      fill: #FFFFFF;\n",
              "    }\n",
              "  </style>\n",
              "\n",
              "      <script>\n",
              "        const buttonEl =\n",
              "          document.querySelector('#df-51266560-bf13-4ec3-ab61-10a491209ca4 button.colab-df-convert');\n",
              "        buttonEl.style.display =\n",
              "          google.colab.kernel.accessAllowed ? 'block' : 'none';\n",
              "\n",
              "        async function convertToInteractive(key) {\n",
              "          const element = document.querySelector('#df-51266560-bf13-4ec3-ab61-10a491209ca4');\n",
              "          const dataTable =\n",
              "            await google.colab.kernel.invokeFunction('convertToInteractive',\n",
              "                                                     [key], {});\n",
              "          if (!dataTable) return;\n",
              "\n",
              "          const docLinkHtml = 'Like what you see? Visit the ' +\n",
              "            '<a target=\"_blank\" href=https://colab.research.google.com/notebooks/data_table.ipynb>data table notebook</a>'\n",
              "            + ' to learn more about interactive tables.';\n",
              "          element.innerHTML = '';\n",
              "          dataTable['output_type'] = 'display_data';\n",
              "          await google.colab.output.renderOutput(dataTable, element);\n",
              "          const docLink = document.createElement('div');\n",
              "          docLink.innerHTML = docLinkHtml;\n",
              "          element.appendChild(docLink);\n",
              "        }\n",
              "      </script>\n",
              "    </div>\n",
              "  </div>\n",
              "  "
            ]
          },
          "metadata": {},
          "execution_count": 4
        }
      ]
    },
    {
      "cell_type": "code",
      "source": [
        "x_test.head()"
      ],
      "metadata": {
        "colab": {
          "base_uri": "https://localhost:8080/",
          "height": 267
        },
        "id": "Z7NKPYMrWdgp",
        "outputId": "7e34687b-e917-4c8a-bfb2-b557e8113356"
      },
      "execution_count": 5,
      "outputs": [
        {
          "output_type": "execute_result",
          "data": {
            "text/plain": [
              "           0    1    2    3    4    5     6    7    8    9  ...  194990  \\\n",
              "beer_id                                                     ...           \n",
              "0        0.0  0.0  0.0  0.0  0.0  0.0   0.0  1.0  2.0  0.0  ...    17.0   \n",
              "1        0.0  3.0  0.0  0.0  8.0  0.0   0.0  0.0  0.0  0.0  ...     0.0   \n",
              "2        0.0  0.0  0.0  0.0  0.0  0.0   1.0  4.0  0.0  0.0  ...     2.0   \n",
              "3        0.0  1.0  1.0  0.0  0.0  2.0  11.0  3.0  2.0  1.0  ...     0.0   \n",
              "4        0.0  0.0  0.0  0.0  5.0  3.0   0.0  2.0  0.0  0.0  ...     0.0   \n",
              "\n",
              "         194991  194992  194993  194994  194995  194996  194997  194998  \\\n",
              "beer_id                                                                   \n",
              "0           0.0     0.0     0.0     0.0     0.0     0.0     0.0     0.0   \n",
              "1           0.0     1.0     0.0     0.0     0.0     0.0     0.0     0.0   \n",
              "2           0.0     0.0     0.0     0.0     0.0     0.0     0.0     0.0   \n",
              "3           1.0     0.0     0.0     0.0     0.0     0.0     0.0     0.0   \n",
              "4           0.0     0.0     0.0     0.0     0.0     0.0     0.0     0.0   \n",
              "\n",
              "         194999  \n",
              "beer_id          \n",
              "0           0.0  \n",
              "1           0.0  \n",
              "2           0.0  \n",
              "3           0.0  \n",
              "4           0.0  \n",
              "\n",
              "[5 rows x 195000 columns]"
            ],
            "text/html": [
              "\n",
              "  <div id=\"df-ac9e8f60-00ba-4608-817e-5cadac3b2f84\">\n",
              "    <div class=\"colab-df-container\">\n",
              "      <div>\n",
              "<style scoped>\n",
              "    .dataframe tbody tr th:only-of-type {\n",
              "        vertical-align: middle;\n",
              "    }\n",
              "\n",
              "    .dataframe tbody tr th {\n",
              "        vertical-align: top;\n",
              "    }\n",
              "\n",
              "    .dataframe thead th {\n",
              "        text-align: right;\n",
              "    }\n",
              "</style>\n",
              "<table border=\"1\" class=\"dataframe\">\n",
              "  <thead>\n",
              "    <tr style=\"text-align: right;\">\n",
              "      <th></th>\n",
              "      <th>0</th>\n",
              "      <th>1</th>\n",
              "      <th>2</th>\n",
              "      <th>3</th>\n",
              "      <th>4</th>\n",
              "      <th>5</th>\n",
              "      <th>6</th>\n",
              "      <th>7</th>\n",
              "      <th>8</th>\n",
              "      <th>9</th>\n",
              "      <th>...</th>\n",
              "      <th>194990</th>\n",
              "      <th>194991</th>\n",
              "      <th>194992</th>\n",
              "      <th>194993</th>\n",
              "      <th>194994</th>\n",
              "      <th>194995</th>\n",
              "      <th>194996</th>\n",
              "      <th>194997</th>\n",
              "      <th>194998</th>\n",
              "      <th>194999</th>\n",
              "    </tr>\n",
              "    <tr>\n",
              "      <th>beer_id</th>\n",
              "      <th></th>\n",
              "      <th></th>\n",
              "      <th></th>\n",
              "      <th></th>\n",
              "      <th></th>\n",
              "      <th></th>\n",
              "      <th></th>\n",
              "      <th></th>\n",
              "      <th></th>\n",
              "      <th></th>\n",
              "      <th></th>\n",
              "      <th></th>\n",
              "      <th></th>\n",
              "      <th></th>\n",
              "      <th></th>\n",
              "      <th></th>\n",
              "      <th></th>\n",
              "      <th></th>\n",
              "      <th></th>\n",
              "      <th></th>\n",
              "      <th></th>\n",
              "    </tr>\n",
              "  </thead>\n",
              "  <tbody>\n",
              "    <tr>\n",
              "      <th>0</th>\n",
              "      <td>0.0</td>\n",
              "      <td>0.0</td>\n",
              "      <td>0.0</td>\n",
              "      <td>0.0</td>\n",
              "      <td>0.0</td>\n",
              "      <td>0.0</td>\n",
              "      <td>0.0</td>\n",
              "      <td>1.0</td>\n",
              "      <td>2.0</td>\n",
              "      <td>0.0</td>\n",
              "      <td>...</td>\n",
              "      <td>17.0</td>\n",
              "      <td>0.0</td>\n",
              "      <td>0.0</td>\n",
              "      <td>0.0</td>\n",
              "      <td>0.0</td>\n",
              "      <td>0.0</td>\n",
              "      <td>0.0</td>\n",
              "      <td>0.0</td>\n",
              "      <td>0.0</td>\n",
              "      <td>0.0</td>\n",
              "    </tr>\n",
              "    <tr>\n",
              "      <th>1</th>\n",
              "      <td>0.0</td>\n",
              "      <td>3.0</td>\n",
              "      <td>0.0</td>\n",
              "      <td>0.0</td>\n",
              "      <td>8.0</td>\n",
              "      <td>0.0</td>\n",
              "      <td>0.0</td>\n",
              "      <td>0.0</td>\n",
              "      <td>0.0</td>\n",
              "      <td>0.0</td>\n",
              "      <td>...</td>\n",
              "      <td>0.0</td>\n",
              "      <td>0.0</td>\n",
              "      <td>1.0</td>\n",
              "      <td>0.0</td>\n",
              "      <td>0.0</td>\n",
              "      <td>0.0</td>\n",
              "      <td>0.0</td>\n",
              "      <td>0.0</td>\n",
              "      <td>0.0</td>\n",
              "      <td>0.0</td>\n",
              "    </tr>\n",
              "    <tr>\n",
              "      <th>2</th>\n",
              "      <td>0.0</td>\n",
              "      <td>0.0</td>\n",
              "      <td>0.0</td>\n",
              "      <td>0.0</td>\n",
              "      <td>0.0</td>\n",
              "      <td>0.0</td>\n",
              "      <td>1.0</td>\n",
              "      <td>4.0</td>\n",
              "      <td>0.0</td>\n",
              "      <td>0.0</td>\n",
              "      <td>...</td>\n",
              "      <td>2.0</td>\n",
              "      <td>0.0</td>\n",
              "      <td>0.0</td>\n",
              "      <td>0.0</td>\n",
              "      <td>0.0</td>\n",
              "      <td>0.0</td>\n",
              "      <td>0.0</td>\n",
              "      <td>0.0</td>\n",
              "      <td>0.0</td>\n",
              "      <td>0.0</td>\n",
              "    </tr>\n",
              "    <tr>\n",
              "      <th>3</th>\n",
              "      <td>0.0</td>\n",
              "      <td>1.0</td>\n",
              "      <td>1.0</td>\n",
              "      <td>0.0</td>\n",
              "      <td>0.0</td>\n",
              "      <td>2.0</td>\n",
              "      <td>11.0</td>\n",
              "      <td>3.0</td>\n",
              "      <td>2.0</td>\n",
              "      <td>1.0</td>\n",
              "      <td>...</td>\n",
              "      <td>0.0</td>\n",
              "      <td>1.0</td>\n",
              "      <td>0.0</td>\n",
              "      <td>0.0</td>\n",
              "      <td>0.0</td>\n",
              "      <td>0.0</td>\n",
              "      <td>0.0</td>\n",
              "      <td>0.0</td>\n",
              "      <td>0.0</td>\n",
              "      <td>0.0</td>\n",
              "    </tr>\n",
              "    <tr>\n",
              "      <th>4</th>\n",
              "      <td>0.0</td>\n",
              "      <td>0.0</td>\n",
              "      <td>0.0</td>\n",
              "      <td>0.0</td>\n",
              "      <td>5.0</td>\n",
              "      <td>3.0</td>\n",
              "      <td>0.0</td>\n",
              "      <td>2.0</td>\n",
              "      <td>0.0</td>\n",
              "      <td>0.0</td>\n",
              "      <td>...</td>\n",
              "      <td>0.0</td>\n",
              "      <td>0.0</td>\n",
              "      <td>0.0</td>\n",
              "      <td>0.0</td>\n",
              "      <td>0.0</td>\n",
              "      <td>0.0</td>\n",
              "      <td>0.0</td>\n",
              "      <td>0.0</td>\n",
              "      <td>0.0</td>\n",
              "      <td>0.0</td>\n",
              "    </tr>\n",
              "  </tbody>\n",
              "</table>\n",
              "<p>5 rows × 195000 columns</p>\n",
              "</div>\n",
              "      <button class=\"colab-df-convert\" onclick=\"convertToInteractive('df-ac9e8f60-00ba-4608-817e-5cadac3b2f84')\"\n",
              "              title=\"Convert this dataframe to an interactive table.\"\n",
              "              style=\"display:none;\">\n",
              "        \n",
              "  <svg xmlns=\"http://www.w3.org/2000/svg\" height=\"24px\"viewBox=\"0 0 24 24\"\n",
              "       width=\"24px\">\n",
              "    <path d=\"M0 0h24v24H0V0z\" fill=\"none\"/>\n",
              "    <path d=\"M18.56 5.44l.94 2.06.94-2.06 2.06-.94-2.06-.94-.94-2.06-.94 2.06-2.06.94zm-11 1L8.5 8.5l.94-2.06 2.06-.94-2.06-.94L8.5 2.5l-.94 2.06-2.06.94zm10 10l.94 2.06.94-2.06 2.06-.94-2.06-.94-.94-2.06-.94 2.06-2.06.94z\"/><path d=\"M17.41 7.96l-1.37-1.37c-.4-.4-.92-.59-1.43-.59-.52 0-1.04.2-1.43.59L10.3 9.45l-7.72 7.72c-.78.78-.78 2.05 0 2.83L4 21.41c.39.39.9.59 1.41.59.51 0 1.02-.2 1.41-.59l7.78-7.78 2.81-2.81c.8-.78.8-2.07 0-2.86zM5.41 20L4 18.59l7.72-7.72 1.47 1.35L5.41 20z\"/>\n",
              "  </svg>\n",
              "      </button>\n",
              "      \n",
              "  <style>\n",
              "    .colab-df-container {\n",
              "      display:flex;\n",
              "      flex-wrap:wrap;\n",
              "      gap: 12px;\n",
              "    }\n",
              "\n",
              "    .colab-df-convert {\n",
              "      background-color: #E8F0FE;\n",
              "      border: none;\n",
              "      border-radius: 50%;\n",
              "      cursor: pointer;\n",
              "      display: none;\n",
              "      fill: #1967D2;\n",
              "      height: 32px;\n",
              "      padding: 0 0 0 0;\n",
              "      width: 32px;\n",
              "    }\n",
              "\n",
              "    .colab-df-convert:hover {\n",
              "      background-color: #E2EBFA;\n",
              "      box-shadow: 0px 1px 2px rgba(60, 64, 67, 0.3), 0px 1px 3px 1px rgba(60, 64, 67, 0.15);\n",
              "      fill: #174EA6;\n",
              "    }\n",
              "\n",
              "    [theme=dark] .colab-df-convert {\n",
              "      background-color: #3B4455;\n",
              "      fill: #D2E3FC;\n",
              "    }\n",
              "\n",
              "    [theme=dark] .colab-df-convert:hover {\n",
              "      background-color: #434B5C;\n",
              "      box-shadow: 0px 1px 3px 1px rgba(0, 0, 0, 0.15);\n",
              "      filter: drop-shadow(0px 1px 2px rgba(0, 0, 0, 0.3));\n",
              "      fill: #FFFFFF;\n",
              "    }\n",
              "  </style>\n",
              "\n",
              "      <script>\n",
              "        const buttonEl =\n",
              "          document.querySelector('#df-ac9e8f60-00ba-4608-817e-5cadac3b2f84 button.colab-df-convert');\n",
              "        buttonEl.style.display =\n",
              "          google.colab.kernel.accessAllowed ? 'block' : 'none';\n",
              "\n",
              "        async function convertToInteractive(key) {\n",
              "          const element = document.querySelector('#df-ac9e8f60-00ba-4608-817e-5cadac3b2f84');\n",
              "          const dataTable =\n",
              "            await google.colab.kernel.invokeFunction('convertToInteractive',\n",
              "                                                     [key], {});\n",
              "          if (!dataTable) return;\n",
              "\n",
              "          const docLinkHtml = 'Like what you see? Visit the ' +\n",
              "            '<a target=\"_blank\" href=https://colab.research.google.com/notebooks/data_table.ipynb>data table notebook</a>'\n",
              "            + ' to learn more about interactive tables.';\n",
              "          element.innerHTML = '';\n",
              "          dataTable['output_type'] = 'display_data';\n",
              "          await google.colab.output.renderOutput(dataTable, element);\n",
              "          const docLink = document.createElement('div');\n",
              "          docLink.innerHTML = docLinkHtml;\n",
              "          element.appendChild(docLink);\n",
              "        }\n",
              "      </script>\n",
              "    </div>\n",
              "  </div>\n",
              "  "
            ]
          },
          "metadata": {},
          "execution_count": 5
        }
      ]
    },
    {
      "cell_type": "code",
      "source": [
        "y_test.head() # o cara botou um y_test['0'], sla o que era"
      ],
      "metadata": {
        "colab": {
          "base_uri": "https://localhost:8080/",
          "height": 206
        },
        "id": "as5sZDoNaPfI",
        "outputId": "44af694b-98f4-4e88-8f9a-fbe1a8818b13"
      },
      "execution_count": 6,
      "outputs": [
        {
          "output_type": "execute_result",
          "data": {
            "text/plain": [
              "   Unnamed: 0     0\n",
              "0           0  25.0\n",
              "1           1  30.0\n",
              "2           2  10.0\n",
              "3           3  25.0\n",
              "4           4  32.0"
            ],
            "text/html": [
              "\n",
              "  <div id=\"df-2546e47e-fa11-4e21-8d6b-188d784215bc\">\n",
              "    <div class=\"colab-df-container\">\n",
              "      <div>\n",
              "<style scoped>\n",
              "    .dataframe tbody tr th:only-of-type {\n",
              "        vertical-align: middle;\n",
              "    }\n",
              "\n",
              "    .dataframe tbody tr th {\n",
              "        vertical-align: top;\n",
              "    }\n",
              "\n",
              "    .dataframe thead th {\n",
              "        text-align: right;\n",
              "    }\n",
              "</style>\n",
              "<table border=\"1\" class=\"dataframe\">\n",
              "  <thead>\n",
              "    <tr style=\"text-align: right;\">\n",
              "      <th></th>\n",
              "      <th>Unnamed: 0</th>\n",
              "      <th>0</th>\n",
              "    </tr>\n",
              "  </thead>\n",
              "  <tbody>\n",
              "    <tr>\n",
              "      <th>0</th>\n",
              "      <td>0</td>\n",
              "      <td>25.0</td>\n",
              "    </tr>\n",
              "    <tr>\n",
              "      <th>1</th>\n",
              "      <td>1</td>\n",
              "      <td>30.0</td>\n",
              "    </tr>\n",
              "    <tr>\n",
              "      <th>2</th>\n",
              "      <td>2</td>\n",
              "      <td>10.0</td>\n",
              "    </tr>\n",
              "    <tr>\n",
              "      <th>3</th>\n",
              "      <td>3</td>\n",
              "      <td>25.0</td>\n",
              "    </tr>\n",
              "    <tr>\n",
              "      <th>4</th>\n",
              "      <td>4</td>\n",
              "      <td>32.0</td>\n",
              "    </tr>\n",
              "  </tbody>\n",
              "</table>\n",
              "</div>\n",
              "      <button class=\"colab-df-convert\" onclick=\"convertToInteractive('df-2546e47e-fa11-4e21-8d6b-188d784215bc')\"\n",
              "              title=\"Convert this dataframe to an interactive table.\"\n",
              "              style=\"display:none;\">\n",
              "        \n",
              "  <svg xmlns=\"http://www.w3.org/2000/svg\" height=\"24px\"viewBox=\"0 0 24 24\"\n",
              "       width=\"24px\">\n",
              "    <path d=\"M0 0h24v24H0V0z\" fill=\"none\"/>\n",
              "    <path d=\"M18.56 5.44l.94 2.06.94-2.06 2.06-.94-2.06-.94-.94-2.06-.94 2.06-2.06.94zm-11 1L8.5 8.5l.94-2.06 2.06-.94-2.06-.94L8.5 2.5l-.94 2.06-2.06.94zm10 10l.94 2.06.94-2.06 2.06-.94-2.06-.94-.94-2.06-.94 2.06-2.06.94z\"/><path d=\"M17.41 7.96l-1.37-1.37c-.4-.4-.92-.59-1.43-.59-.52 0-1.04.2-1.43.59L10.3 9.45l-7.72 7.72c-.78.78-.78 2.05 0 2.83L4 21.41c.39.39.9.59 1.41.59.51 0 1.02-.2 1.41-.59l7.78-7.78 2.81-2.81c.8-.78.8-2.07 0-2.86zM5.41 20L4 18.59l7.72-7.72 1.47 1.35L5.41 20z\"/>\n",
              "  </svg>\n",
              "      </button>\n",
              "      \n",
              "  <style>\n",
              "    .colab-df-container {\n",
              "      display:flex;\n",
              "      flex-wrap:wrap;\n",
              "      gap: 12px;\n",
              "    }\n",
              "\n",
              "    .colab-df-convert {\n",
              "      background-color: #E8F0FE;\n",
              "      border: none;\n",
              "      border-radius: 50%;\n",
              "      cursor: pointer;\n",
              "      display: none;\n",
              "      fill: #1967D2;\n",
              "      height: 32px;\n",
              "      padding: 0 0 0 0;\n",
              "      width: 32px;\n",
              "    }\n",
              "\n",
              "    .colab-df-convert:hover {\n",
              "      background-color: #E2EBFA;\n",
              "      box-shadow: 0px 1px 2px rgba(60, 64, 67, 0.3), 0px 1px 3px 1px rgba(60, 64, 67, 0.15);\n",
              "      fill: #174EA6;\n",
              "    }\n",
              "\n",
              "    [theme=dark] .colab-df-convert {\n",
              "      background-color: #3B4455;\n",
              "      fill: #D2E3FC;\n",
              "    }\n",
              "\n",
              "    [theme=dark] .colab-df-convert:hover {\n",
              "      background-color: #434B5C;\n",
              "      box-shadow: 0px 1px 3px 1px rgba(0, 0, 0, 0.15);\n",
              "      filter: drop-shadow(0px 1px 2px rgba(0, 0, 0, 0.3));\n",
              "      fill: #FFFFFF;\n",
              "    }\n",
              "  </style>\n",
              "\n",
              "      <script>\n",
              "        const buttonEl =\n",
              "          document.querySelector('#df-2546e47e-fa11-4e21-8d6b-188d784215bc button.colab-df-convert');\n",
              "        buttonEl.style.display =\n",
              "          google.colab.kernel.accessAllowed ? 'block' : 'none';\n",
              "\n",
              "        async function convertToInteractive(key) {\n",
              "          const element = document.querySelector('#df-2546e47e-fa11-4e21-8d6b-188d784215bc');\n",
              "          const dataTable =\n",
              "            await google.colab.kernel.invokeFunction('convertToInteractive',\n",
              "                                                     [key], {});\n",
              "          if (!dataTable) return;\n",
              "\n",
              "          const docLinkHtml = 'Like what you see? Visit the ' +\n",
              "            '<a target=\"_blank\" href=https://colab.research.google.com/notebooks/data_table.ipynb>data table notebook</a>'\n",
              "            + ' to learn more about interactive tables.';\n",
              "          element.innerHTML = '';\n",
              "          dataTable['output_type'] = 'display_data';\n",
              "          await google.colab.output.renderOutput(dataTable, element);\n",
              "          const docLink = document.createElement('div');\n",
              "          docLink.innerHTML = docLinkHtml;\n",
              "          element.appendChild(docLink);\n",
              "        }\n",
              "      </script>\n",
              "    </div>\n",
              "  </div>\n",
              "  "
            ]
          },
          "metadata": {},
          "execution_count": 6
        }
      ]
    },
    {
      "cell_type": "code",
      "source": [
        "y_test = y_test.drop(columns=['Unnamed: 0'])"
      ],
      "metadata": {
        "id": "b4u4Zz1Ww40r"
      },
      "execution_count": 15,
      "outputs": []
    },
    {
      "cell_type": "code",
      "source": [
        "y_test.head()"
      ],
      "metadata": {
        "colab": {
          "base_uri": "https://localhost:8080/",
          "height": 206
        },
        "id": "GhJMOVz_xJZF",
        "outputId": "75eaf3eb-d36c-4e76-8fb9-2ae0acbc363e"
      },
      "execution_count": 16,
      "outputs": [
        {
          "output_type": "execute_result",
          "data": {
            "text/plain": [
              "      0\n",
              "0  25.0\n",
              "1  30.0\n",
              "2  10.0\n",
              "3  25.0\n",
              "4  32.0"
            ],
            "text/html": [
              "\n",
              "  <div id=\"df-3e15959d-8809-49fe-9ede-a80c68354caf\">\n",
              "    <div class=\"colab-df-container\">\n",
              "      <div>\n",
              "<style scoped>\n",
              "    .dataframe tbody tr th:only-of-type {\n",
              "        vertical-align: middle;\n",
              "    }\n",
              "\n",
              "    .dataframe tbody tr th {\n",
              "        vertical-align: top;\n",
              "    }\n",
              "\n",
              "    .dataframe thead th {\n",
              "        text-align: right;\n",
              "    }\n",
              "</style>\n",
              "<table border=\"1\" class=\"dataframe\">\n",
              "  <thead>\n",
              "    <tr style=\"text-align: right;\">\n",
              "      <th></th>\n",
              "      <th>0</th>\n",
              "    </tr>\n",
              "  </thead>\n",
              "  <tbody>\n",
              "    <tr>\n",
              "      <th>0</th>\n",
              "      <td>25.0</td>\n",
              "    </tr>\n",
              "    <tr>\n",
              "      <th>1</th>\n",
              "      <td>30.0</td>\n",
              "    </tr>\n",
              "    <tr>\n",
              "      <th>2</th>\n",
              "      <td>10.0</td>\n",
              "    </tr>\n",
              "    <tr>\n",
              "      <th>3</th>\n",
              "      <td>25.0</td>\n",
              "    </tr>\n",
              "    <tr>\n",
              "      <th>4</th>\n",
              "      <td>32.0</td>\n",
              "    </tr>\n",
              "  </tbody>\n",
              "</table>\n",
              "</div>\n",
              "      <button class=\"colab-df-convert\" onclick=\"convertToInteractive('df-3e15959d-8809-49fe-9ede-a80c68354caf')\"\n",
              "              title=\"Convert this dataframe to an interactive table.\"\n",
              "              style=\"display:none;\">\n",
              "        \n",
              "  <svg xmlns=\"http://www.w3.org/2000/svg\" height=\"24px\"viewBox=\"0 0 24 24\"\n",
              "       width=\"24px\">\n",
              "    <path d=\"M0 0h24v24H0V0z\" fill=\"none\"/>\n",
              "    <path d=\"M18.56 5.44l.94 2.06.94-2.06 2.06-.94-2.06-.94-.94-2.06-.94 2.06-2.06.94zm-11 1L8.5 8.5l.94-2.06 2.06-.94-2.06-.94L8.5 2.5l-.94 2.06-2.06.94zm10 10l.94 2.06.94-2.06 2.06-.94-2.06-.94-.94-2.06-.94 2.06-2.06.94z\"/><path d=\"M17.41 7.96l-1.37-1.37c-.4-.4-.92-.59-1.43-.59-.52 0-1.04.2-1.43.59L10.3 9.45l-7.72 7.72c-.78.78-.78 2.05 0 2.83L4 21.41c.39.39.9.59 1.41.59.51 0 1.02-.2 1.41-.59l7.78-7.78 2.81-2.81c.8-.78.8-2.07 0-2.86zM5.41 20L4 18.59l7.72-7.72 1.47 1.35L5.41 20z\"/>\n",
              "  </svg>\n",
              "      </button>\n",
              "      \n",
              "  <style>\n",
              "    .colab-df-container {\n",
              "      display:flex;\n",
              "      flex-wrap:wrap;\n",
              "      gap: 12px;\n",
              "    }\n",
              "\n",
              "    .colab-df-convert {\n",
              "      background-color: #E8F0FE;\n",
              "      border: none;\n",
              "      border-radius: 50%;\n",
              "      cursor: pointer;\n",
              "      display: none;\n",
              "      fill: #1967D2;\n",
              "      height: 32px;\n",
              "      padding: 0 0 0 0;\n",
              "      width: 32px;\n",
              "    }\n",
              "\n",
              "    .colab-df-convert:hover {\n",
              "      background-color: #E2EBFA;\n",
              "      box-shadow: 0px 1px 2px rgba(60, 64, 67, 0.3), 0px 1px 3px 1px rgba(60, 64, 67, 0.15);\n",
              "      fill: #174EA6;\n",
              "    }\n",
              "\n",
              "    [theme=dark] .colab-df-convert {\n",
              "      background-color: #3B4455;\n",
              "      fill: #D2E3FC;\n",
              "    }\n",
              "\n",
              "    [theme=dark] .colab-df-convert:hover {\n",
              "      background-color: #434B5C;\n",
              "      box-shadow: 0px 1px 3px 1px rgba(0, 0, 0, 0.15);\n",
              "      filter: drop-shadow(0px 1px 2px rgba(0, 0, 0, 0.3));\n",
              "      fill: #FFFFFF;\n",
              "    }\n",
              "  </style>\n",
              "\n",
              "      <script>\n",
              "        const buttonEl =\n",
              "          document.querySelector('#df-3e15959d-8809-49fe-9ede-a80c68354caf button.colab-df-convert');\n",
              "        buttonEl.style.display =\n",
              "          google.colab.kernel.accessAllowed ? 'block' : 'none';\n",
              "\n",
              "        async function convertToInteractive(key) {\n",
              "          const element = document.querySelector('#df-3e15959d-8809-49fe-9ede-a80c68354caf');\n",
              "          const dataTable =\n",
              "            await google.colab.kernel.invokeFunction('convertToInteractive',\n",
              "                                                     [key], {});\n",
              "          if (!dataTable) return;\n",
              "\n",
              "          const docLinkHtml = 'Like what you see? Visit the ' +\n",
              "            '<a target=\"_blank\" href=https://colab.research.google.com/notebooks/data_table.ipynb>data table notebook</a>'\n",
              "            + ' to learn more about interactive tables.';\n",
              "          element.innerHTML = '';\n",
              "          dataTable['output_type'] = 'display_data';\n",
              "          await google.colab.output.renderOutput(dataTable, element);\n",
              "          const docLink = document.createElement('div');\n",
              "          docLink.innerHTML = docLinkHtml;\n",
              "          element.appendChild(docLink);\n",
              "        }\n",
              "      </script>\n",
              "    </div>\n",
              "  </div>\n",
              "  "
            ]
          },
          "metadata": {},
          "execution_count": 16
        }
      ]
    },
    {
      "cell_type": "markdown",
      "source": [
        "### Modelo de classificação utilizando Partial Least Squares"
      ],
      "metadata": {
        "id": "9RDbeKO3hptB"
      }
    },
    {
      "cell_type": "code",
      "source": [
        "from sklearn.cross_decomposition import PLSRegression\n",
        "from sklearn.model_selection import train_test_split\n",
        "from sklearn.metrics import r2_score\n",
        "\n",
        "def model_pls(x_train, y_train, x_test, y_test):\n",
        "    # Create a PLS regression object with desired number of components\n",
        "    n_components = 2\n",
        "    pls = PLSRegression(n_components=n_components)\n",
        "\n",
        "    # Train the PLS model\n",
        "    pls.fit(x_train, y_train)\n",
        "\n",
        "    # Apply the PLS model to make predictions\n",
        "    y_pred = pls.predict(x_test)\n",
        "\n",
        "    # Evaluate the model performance\n",
        "    r2 = r2_score(y_test, y_pred)\n",
        "\n",
        "    return r2"
      ],
      "metadata": {
        "id": "E2hOOPrGXOhM"
      },
      "execution_count": 7,
      "outputs": []
    },
    {
      "cell_type": "code",
      "source": [
        "x_train = train.iloc[:, :-1]\n",
        "y_train = train.iloc[:, -1]"
      ],
      "metadata": {
        "id": "vD5F_7muxSgF"
      },
      "execution_count": 18,
      "outputs": []
    },
    {
      "cell_type": "code",
      "source": [
        "y_train.head()"
      ],
      "metadata": {
        "colab": {
          "base_uri": "https://localhost:8080/"
        },
        "id": "hdPhgxXhwxML",
        "outputId": "251c4f00-d240-47a4-f842-9d35dbddb430"
      },
      "execution_count": 17,
      "outputs": [
        {
          "output_type": "execute_result",
          "data": {
            "text/plain": [
              "beer_id\n",
              "0    25.0\n",
              "1    28.0\n",
              "2    32.0\n",
              "3    24.0\n",
              "4    29.0\n",
              "Name: target, dtype: float64"
            ]
          },
          "metadata": {},
          "execution_count": 17
        }
      ]
    },
    {
      "cell_type": "markdown",
      "source": [
        "**Resultado utilizando todas as variáveis**"
      ],
      "metadata": {
        "id": "y2LNeAOGhz8z"
      }
    },
    {
      "cell_type": "code",
      "source": [
        "r2 = model_pls(x_train, y_train, x_test, y_test)\n",
        "\n",
        "print(\"R^2 score:\", r2)"
      ],
      "metadata": {
        "colab": {
          "base_uri": "https://localhost:8080/"
        },
        "id": "QLcBMCmoayqF",
        "outputId": "3a8572a0-c6a3-4cf6-ac61-469129a1e833"
      },
      "execution_count": 19,
      "outputs": [
        {
          "output_type": "stream",
          "name": "stdout",
          "text": [
            "R^2 score: 0.6957098354975488\n"
          ]
        }
      ]
    },
    {
      "cell_type": "markdown",
      "source": [
        "# Algoritmo Genético"
      ],
      "metadata": {
        "id": "bKnbFPCjh3m3"
      }
    },
    {
      "cell_type": "markdown",
      "source": [
        "### Classe indivíduo\n",
        "\n",
        "Cada indivíduo é representado por um cromossomo de tamanho igual à quantidade de variáveis (ou características) existentes no dataframe original.\n",
        "Cada indíviduo possui um fitness, que é representado pelo R^2 score.\n",
        "O R^2 score de cada indivíduo é calculado utilizando apenas as características selecionadas, ou seja, apenas aquelas variáveis em que os genes são iguais a 1."
      ],
      "metadata": {
        "id": "-ePTHjnmiCsB"
      }
    },
    {
      "cell_type": "code",
      "source": [
        "import random\n",
        "\n",
        "class Individuo:\n",
        "    def __init__(self, x_train, y_train, x_test, y_test):\n",
        "        self.comprimento = x_train.shape[1]\n",
        "        self.genotipo = self.gerar_genotipo()\n",
        "        self.fitness = self.calcular_fitness(x_train, y_train, x_test, y_test)\n",
        "\n",
        "    def gerar_genotipo(self):\n",
        "        return [random.randint(0, 1) for _ in range(self.comprimento)]\n",
        "\n",
        "    def calcular_fitness(self, x_train, y_train, x_test, y_test):\n",
        "        ind_train = x_train.iloc[:, [i for i, val in enumerate(self.genotipo) if val == 1]]\n",
        "        ind_test = x_test.iloc[:, [i for i, val in enumerate(self.genotipo) if val == 1]]\n",
        "        r2_score = model_pls(ind_train, y_train, ind_test, y_test)\n",
        "        return r2_score\n",
        "\n",
        "    @staticmethod\n",
        "    def maior_fitness(populacao):\n",
        "        melhor_fitness = float('-inf')\n",
        "        melhor_individuo = None\n",
        "\n",
        "        for individuo in populacao:\n",
        "            if individuo.fitness > melhor_fitness:\n",
        "                melhor_fitness = individuo.fitness\n",
        "                melhor_individuo = individuo\n",
        "\n",
        "        return melhor_individuo"
      ],
      "metadata": {
        "id": "raihqxysh-Ck"
      },
      "execution_count": 20,
      "outputs": []
    },
    {
      "cell_type": "markdown",
      "source": [
        "### Função para gerar a população inicial"
      ],
      "metadata": {
        "id": "HcFo-bW2lkb2"
      }
    },
    {
      "cell_type": "code",
      "source": [
        "def gerar_populacao_inicial(tamanho_populacao, x_train, y_train, x_test, y_test):\n",
        "    populacao = []\n",
        "\n",
        "    for _ in range(tamanho_populacao):\n",
        "        individuo = Individuo(x_train, y_train, x_test, y_test)\n",
        "        populacao.append(individuo)\n",
        "\n",
        "    return populacao"
      ],
      "metadata": {
        "id": "qhNrFRkJj8yx"
      },
      "execution_count": 21,
      "outputs": []
    },
    {
      "cell_type": "markdown",
      "source": [
        "### Seleção\n",
        "Função para selecionar um indivíduo para a etapa de cruzamento. Esta seleção é realizada utilizando torneio entre dois indivíduos"
      ],
      "metadata": {
        "id": "QxoPUrRLlpuH"
      }
    },
    {
      "cell_type": "code",
      "source": [
        "def selecao(populacao):\n",
        "    individuo1 = random.choice(populacao)\n",
        "    individuo2 = random.choice(populacao)\n",
        "\n",
        "    if individuo1.fitness > individuo2.fitness:\n",
        "        return individuo1\n",
        "    else:\n",
        "        return individuo2"
      ],
      "metadata": {
        "id": "Q5OINM3abQmD"
      },
      "execution_count": 46,
      "outputs": []
    },
    {
      "cell_type": "markdown",
      "source": [
        "### Cruzamento\n",
        "Função que realiza o cruzamento entre dois indivíduos. Nesta função é utilizado o cruzamento de 1-ponto"
      ],
      "metadata": {
        "id": "5EDHOxUymBOH"
      }
    },
    {
      "cell_type": "code",
      "source": [
        "def cruzamento(individuo1, individuo2):\n",
        "    ponto_corte = random.randint(1, individuo1.comprimento - 1)\n",
        "\n",
        "    filho1 = Individuo(x_train, y_train, x_test, y_test)\n",
        "    filho2 = Individuo(x_train, y_train, x_test, y_test)\n",
        "\n",
        "    filho1.genotipo = individuo1.genotipo[:ponto_corte] + individuo2.genotipo[ponto_corte:]\n",
        "    filho2.genotipo = individuo2.genotipo[:ponto_corte] + individuo1.genotipo[ponto_corte:]\n",
        "\n",
        "    return filho1, filho2"
      ],
      "metadata": {
        "id": "FkjlYAt0l62y"
      },
      "execution_count": 28,
      "outputs": []
    },
    {
      "cell_type": "markdown",
      "source": [
        "### Algoritmo Genético"
      ],
      "metadata": {
        "id": "QFh-NscPmXcT"
      }
    },
    {
      "cell_type": "code",
      "source": [
        "# Função de execução do algoritmo genético\n",
        "def algoritmo_genetico(tamanho_populacao, num_geracoes, taxa_mutacao, x_train, y_train, x_test, y_test):\n",
        "    # População inicial\n",
        "    populacao = gerar_populacao_inicial(tamanho_populacao, x_train, y_train, x_test, y_test)\n",
        "    melhores_fitness = []\n",
        "\n",
        "    for gen in range(num_geracoes):\n",
        "        print(\"Geração: {}\".format(gen))\n",
        "        melhores_fitness.append(Individuo.maior_fitness(populacao))\n",
        "\n",
        "        nova_populacao = []\n",
        "\n",
        "        while len(nova_populacao) < tamanho_populacao:\n",
        "            pai1 = selecao(populacao)\n",
        "            pai2 = selecao(populacao)\n",
        "\n",
        "            filho1, filho2 = cruzamento(pai1, pai2)\n",
        "            nova_populacao.append(filho1)\n",
        "            if len(nova_populacao) < tamanho_populacao:\n",
        "                nova_populacao.append(filho2)\n",
        "\n",
        "        populacao = nova_populacao\n",
        "\n",
        "    return melhores_fitness"
      ],
      "metadata": {
        "id": "l4rvvHypkAnO"
      },
      "execution_count": 45,
      "outputs": []
    },
    {
      "cell_type": "markdown",
      "source": [
        "### Função principal"
      ],
      "metadata": {
        "id": "0N4hw4x3E2wp"
      }
    },
    {
      "cell_type": "code",
      "source": [
        "x_train = train.iloc[:, :-1]\n",
        "y_train = train.iloc[:, -1]\n",
        "\n",
        "tamanho_populacao = 10\n",
        "num_geracoes = 5\n",
        "taxa_mutacao = 0\n",
        "\n",
        "melhores_individuos = algoritmo_genetico(tamanho_populacao, num_geracoes, taxa_mutacao, x_train, y_train, x_test, y_test)"
      ],
      "metadata": {
        "colab": {
          "base_uri": "https://localhost:8080/"
        },
        "id": "W1aeWqz5s8pf",
        "outputId": "3003a81f-a6fd-4a24-f867-53cf22d0e9b9"
      },
      "execution_count": 30,
      "outputs": [
        {
          "output_type": "stream",
          "name": "stdout",
          "text": [
            "Geração: 0\n",
            "Geração: 1\n",
            "Geração: 2\n",
            "Geração: 3\n",
            "Geração: 4\n"
          ]
        }
      ]
    },
    {
      "cell_type": "code",
      "source": [
        "for p in melhores_individuos:\n",
        "    print(\"Quantidade de características selecionadas: {}. Fitness do indivíduo: {}\".format(sum(p.genotipo), p.fitness))"
      ],
      "metadata": {
        "colab": {
          "base_uri": "https://localhost:8080/"
        },
        "id": "DbZyaiP9GMV7",
        "outputId": "7a8b841f-287e-4300-a97f-a16100de8ad4"
      },
      "execution_count": 31,
      "outputs": [
        {
          "output_type": "stream",
          "name": "stdout",
          "text": [
            "Quantidade de características selecionadas: 97553. Fitness do indivíduo: 0.6988426502429491\n",
            "Quantidade de características selecionadas: 97502. Fitness do indivíduo: 0.6974554151665207\n",
            "Quantidade de características selecionadas: 97799. Fitness do indivíduo: 0.6973429557296793\n",
            "Quantidade de características selecionadas: 97504. Fitness do indivíduo: 0.7000392799083306\n",
            "Quantidade de características selecionadas: 97815. Fitness do indivíduo: 0.6990048902979603\n"
          ]
        }
      ]
    },
    {
      "cell_type": "code",
      "source": [
        "melhores_individuos"
      ],
      "metadata": {
        "colab": {
          "base_uri": "https://localhost:8080/"
        },
        "id": "6tnhcaJxWAzE",
        "outputId": "deb710e0-27cf-49cc-e728-56c6bf9872c8"
      },
      "execution_count": 32,
      "outputs": [
        {
          "output_type": "execute_result",
          "data": {
            "text/plain": [
              "[<__main__.Individuo at 0x7f03d07f28c0>,\n",
              " <__main__.Individuo at 0x7f03d07f18d0>,\n",
              " <__main__.Individuo at 0x7f03d078f250>,\n",
              " <__main__.Individuo at 0x7f03d07f2ad0>,\n",
              " <__main__.Individuo at 0x7f03a33c73d0>]"
            ]
          },
          "metadata": {},
          "execution_count": 32
        }
      ]
    },
    {
      "cell_type": "markdown",
      "source": [
        "### Atividade\n",
        "\n",
        "Veja que a seleção de uma menor quantidade de características resultou em melhoria da métrica R^2. Mesmo por poucas gerações e utilizando uma população pequena, observa-se que a seleção de características específicas tendem a otimizar a classificação.\n",
        "\n"
      ],
      "metadata": {
        "id": "k0PdIGyvGo54"
      }
    },
    {
      "cell_type": "markdown",
      "source": [
        "1. Execute o algoritmo novamente modificando a quantidade de gerações e o tamanho da população. Implemente uma função para visualizar graficamente a evolução do fitness do melhor indivíduo da população a cada geração.\n"
      ],
      "metadata": {
        "id": "Z-dzihvSd9rB"
      }
    },
    {
      "cell_type": "code",
      "source": [
        "tamanho_populacao = 5\n",
        "num_geracoes = 4\n",
        "taxa_mutacao = 0 # não está implementada ainda\n",
        "\n",
        "melhores_individuos = algoritmo_genetico(tamanho_populacao=10,\n",
        "                                          num_geracoes=4,\n",
        "                                          taxa_mutacao=0,\n",
        "                                          x_train=x_train,y_train=y_train,\n",
        "                                          x_test=x_test, y_test=y_test)"
      ],
      "metadata": {
        "colab": {
          "base_uri": "https://localhost:8080/"
        },
        "id": "GaoMzUDdeBqe",
        "outputId": "32829e7a-b7c3-4378-c67c-48dca159bf78"
      },
      "execution_count": 53,
      "outputs": [
        {
          "output_type": "stream",
          "name": "stdout",
          "text": [
            "Geração: 0\n",
            "Geração: 1\n",
            "Geração: 2\n",
            "Geração: 3\n"
          ]
        }
      ]
    },
    {
      "cell_type": "code",
      "source": [
        "import matplotlib.pyplot as plt\n",
        "\n",
        "# Implemente uma função para visualizar graficamente a evolução do fitness do melhor indivíduo da população a cada geração.\n",
        "def plot_the_best(melhores_individuos):\n",
        "  lista_scores = [indiv.fitness for indiv in melhores_individuos]\n",
        "  plt.plot(lista_scores, '-or')\n",
        "  plt.title('Fitness dos melhores indivíduos ao longo das gerações')\n",
        "  plt.ylabel(\"Fitness score\")\n",
        "  plt.xlabel(\"Geração\")\n",
        "  plt.show()\n",
        "\n",
        "def print_the_best(melhores_individuos):\n",
        "    for p in melhores_individuos:\n",
        "        print(\"Quantidade de características selecionadas: {}. Fitness do indivíduo: {}\".format(sum(p.genotipo), p.fitness))"
      ],
      "metadata": {
        "id": "XpnnNd-jenOC"
      },
      "execution_count": 38,
      "outputs": []
    },
    {
      "cell_type": "code",
      "source": [
        "print_the_best(melhores_individuos)"
      ],
      "metadata": {
        "colab": {
          "base_uri": "https://localhost:8080/"
        },
        "id": "3oR2bbpj5U6K",
        "outputId": "bbbd13ba-da2e-42c0-d3c0-273fc96ee367"
      },
      "execution_count": 54,
      "outputs": [
        {
          "output_type": "stream",
          "name": "stdout",
          "text": [
            "Quantidade de características selecionadas: 97619. Fitness do indivíduo: 0.7009404753492902\n",
            "Quantidade de características selecionadas: 97742. Fitness do indivíduo: 0.699528674362603\n",
            "Quantidade de características selecionadas: 98042. Fitness do indivíduo: 0.6971505919843506\n",
            "Quantidade de características selecionadas: 97638. Fitness do indivíduo: 0.6996863311977705\n"
          ]
        }
      ]
    },
    {
      "cell_type": "code",
      "source": [
        "plot_the_best(melhores_individuos)"
      ],
      "metadata": {
        "colab": {
          "base_uri": "https://localhost:8080/",
          "height": 472
        },
        "id": "owozHUR333LQ",
        "outputId": "bbd112f6-2ba2-434d-9878-20bfdc048609"
      },
      "execution_count": 55,
      "outputs": [
        {
          "output_type": "display_data",
          "data": {
            "text/plain": [
              "<Figure size 640x480 with 1 Axes>"
            ],
            "image/png": "[encoded data removed]"
          },
          "metadata": {}
        }
      ]
    },
    {
      "cell_type": "markdown",
      "source": [
        "\n",
        "2. Altere a etapa de seleção da nova população. Faça com que os n melhores indivíduos sobrevivam para a próxima geração.\n",
        "\n"
      ],
      "metadata": {
        "id": "QktYAq3Sd-53"
      }
    },
    {
      "cell_type": "code",
      "source": [
        "import math\n",
        "\n",
        "def selecao2(populacao, n = 5):\n",
        "    pop_ordenada = sorted(populacao, reverse=True, key=lambda individuo: individuo.fitness)\n",
        "    the_best = pop_ordenada[:n]\n",
        "\n",
        "    return the_best\n",
        "\n",
        "def algoritmo_genetico2(tamanho_populacao, num_geracoes, taxa_mutacao,\n",
        "                        x_train, y_train, x_test, y_test, survival_rate=0.9):\n",
        "    # População inicial\n",
        "    populacao = gerar_populacao_inicial(tamanho_populacao, x_train, y_train, x_test, y_test)\n",
        "    melhores_fitness = []\n",
        "\n",
        "    for gen in range(num_geracoes):\n",
        "        print(\"Geração: {}\".format(gen))\n",
        "        melhores_fitness.append(Individuo.maior_fitness(populacao))\n",
        "        nova_populacao = []\n",
        "\n",
        "        # somente os melhores sobrevivem\n",
        "        populacao = selecao2(populacao, n=math.floor(len(populacao)*survival_rate))\n",
        "\n",
        "        while len(nova_populacao) < tamanho_populacao:\n",
        "            pai1 = selecao(populacao)\n",
        "            pai2 = selecao(populacao)\n",
        "\n",
        "            filho1, filho2 = cruzamento(pai1, pai2)\n",
        "            nova_populacao.append(filho1)\n",
        "            if len(nova_populacao) < tamanho_populacao:\n",
        "                nova_populacao.append(filho2)\n",
        "\n",
        "        populacao = nova_populacao\n",
        "\n",
        "    return melhores_fitness"
      ],
      "metadata": {
        "id": "2-pc_RKSeBRi"
      },
      "execution_count": 50,
      "outputs": []
    },
    {
      "cell_type": "code",
      "source": [
        "melhores_individuos2 = algoritmo_genetico2(tamanho_populacao=10,\n",
        "                                          num_geracoes=4,\n",
        "                                          taxa_mutacao=0,\n",
        "                                          x_train=x_train,y_train=y_train,\n",
        "                                          x_test=x_test, y_test=y_test,\n",
        "                                          survival_rate=0.9)"
      ],
      "metadata": {
        "id": "06okAorfjQ3-",
        "colab": {
          "base_uri": "https://localhost:8080/"
        },
        "outputId": "e756e7af-d15d-4a48-e398-48a759c89322"
      },
      "execution_count": 68,
      "outputs": [
        {
          "output_type": "stream",
          "name": "stdout",
          "text": [
            "Geração: 0\n",
            "Geração: 1\n",
            "Geração: 2\n",
            "Geração: 3\n"
          ]
        }
      ]
    },
    {
      "cell_type": "code",
      "source": [
        "print_the_best(melhores_individuos2)"
      ],
      "metadata": {
        "colab": {
          "base_uri": "https://localhost:8080/"
        },
        "id": "EawV8LlM9_gL",
        "outputId": "b41ac0b1-456a-4ac8-a462-fbc5ee2f09a3"
      },
      "execution_count": 69,
      "outputs": [
        {
          "output_type": "stream",
          "name": "stdout",
          "text": [
            "Quantidade de características selecionadas: 97588. Fitness do indivíduo: 0.6998376637009818\n",
            "Quantidade de características selecionadas: 97516. Fitness do indivíduo: 0.6980649186141806\n",
            "Quantidade de características selecionadas: 97655. Fitness do indivíduo: 0.6978086414911566\n",
            "Quantidade de características selecionadas: 97773. Fitness do indivíduo: 0.6991500021550421\n"
          ]
        }
      ]
    },
    {
      "cell_type": "code",
      "source": [
        "plot_the_best(melhores_individuos2)"
      ],
      "metadata": {
        "colab": {
          "base_uri": "https://localhost:8080/",
          "height": 472
        },
        "id": "p_uZHgAO9jxB",
        "outputId": "ea870e1a-39ff-4a00-84ad-2c11929ec5b5"
      },
      "execution_count": 70,
      "outputs": [
        {
          "output_type": "display_data",
          "data": {
            "text/plain": [
              "<Figure size 640x480 with 1 Axes>"
            ],
            "image/png": "[encoded data removed]"
          },
          "metadata": {}
        }
      ]
    },
    {
      "cell_type": "markdown",
      "source": [
        "3. Implemente a etapa de mutação"
      ],
      "metadata": {
        "id": "ypxqv3mveABD"
      }
    },
    {
      "cell_type": "markdown",
      "source": [
        "![image.png](data:image/png;base64,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)"
      ],
      "metadata": {
        "id": "Cq2d_teOjxue"
      }
    },
    {
      "cell_type": "code",
      "source": [
        "n = 5\n",
        "gene = [random.choice([0, 1]) for _ in range(n)]\n",
        "\n",
        "def mutacao(gene, taxa_mutacao=0.75):\n",
        "  # % de chance de ocorrer mutacao em cada individuo\n",
        "  if random.random() < taxa_mutacao:\n",
        "    random_feature = random.randint(0, len(gene)-1)\n",
        "    switch = lambda valor: 1 if valor == 0 else 0\n",
        "\n",
        "    gene[random_feature] = switch(gene[random_feature])\n",
        "  return gene\n",
        "\n",
        "\n",
        "print(gene)\n",
        "print(mutacao(gene))"
      ],
      "metadata": {
        "id": "Od7-kIFieA0W",
        "colab": {
          "base_uri": "https://localhost:8080/"
        },
        "outputId": "16fcb8a7-703b-4ff3-ade1-e0ee4dc43835"
      },
      "execution_count": 63,
      "outputs": [
        {
          "output_type": "stream",
          "name": "stdout",
          "text": [
            "[1, 1, 1, 0, 0]\n",
            "[1, 1, 0, 0, 0]\n"
          ]
        }
      ]
    },
    {
      "cell_type": "code",
      "source": [
        "def algoritmo_genetico3(tamanho_populacao, num_geracoes, taxa_mutacao,\n",
        "                        x_train, y_train, x_test, y_test, survival_rate=0.5):\n",
        "    # População inicial\n",
        "    populacao = gerar_populacao_inicial(tamanho_populacao, x_train, y_train, x_test, y_test)\n",
        "    melhores_fitness = []\n",
        "\n",
        "    for gen in range(num_geracoes):\n",
        "        print(\"Geração: {}\".format(gen))\n",
        "        melhores_fitness.append(Individuo.maior_fitness(populacao))\n",
        "\n",
        "        nova_populacao = []\n",
        "\n",
        "        # somente os melhores sobrevivem\n",
        "        populacao = selecao2(populacao, n=math.floor(len(populacao)*survival_rate))\n",
        "\n",
        "        while len(nova_populacao) < tamanho_populacao:\n",
        "            pai1 = selecao(populacao)\n",
        "            pai2 = selecao(populacao)\n",
        "\n",
        "            filho1, filho2 = cruzamento(pai1, pai2)\n",
        "\n",
        "            filho1.genotipo = mutacao(filho1.genotipo, taxa_mutacao)\n",
        "            nova_populacao.append(filho1)\n",
        "\n",
        "            if len(nova_populacao) < tamanho_populacao:\n",
        "                filho2.genotipo = mutacao(filho2.genotipo, taxa_mutacao)\n",
        "                nova_populacao.append(filho2)\n",
        "\n",
        "        populacao = nova_populacao\n",
        "\n",
        "    return melhores_fitness"
      ],
      "metadata": {
        "id": "1QHofBv7nEhV"
      },
      "execution_count": 66,
      "outputs": []
    },
    {
      "cell_type": "code",
      "source": [
        "melhores_individuos3 = algoritmo_genetico3(tamanho_populacao=50,\n",
        "                                          num_geracoes=8,\n",
        "                                          taxa_mutacao=0.15,\n",
        "                                          x_train=x_train,y_train=y_train,\n",
        "                                          x_test=x_test, y_test=y_test,\n",
        "                                          survival_rate=0.3)"
      ],
      "metadata": {
        "id": "UmZsHoHDnkRK",
        "colab": {
          "base_uri": "https://localhost:8080/"
        },
        "outputId": "83020403-7cb7-4224-b9f5-1434d2d3f9ae"
      },
      "execution_count": 74,
      "outputs": [
        {
          "output_type": "stream",
          "name": "stdout",
          "text": [
            "Geração: 0\n",
            "Geração: 1\n",
            "Geração: 2\n",
            "Geração: 3\n",
            "Geração: 4\n",
            "Geração: 5\n",
            "Geração: 6\n",
            "Geração: 7\n"
          ]
        }
      ]
    },
    {
      "cell_type": "code",
      "source": [
        "print_the_best(melhores_individuos3)"
      ],
      "metadata": {
        "colab": {
          "base_uri": "https://localhost:8080/"
        },
        "id": "bSfv3zQ_A1GQ",
        "outputId": "1e45c47b-5534-4d6d-d498-ab6b0edb2aa9"
      },
      "execution_count": 75,
      "outputs": [
        {
          "output_type": "stream",
          "name": "stdout",
          "text": [
            "Quantidade de características selecionadas: 97681. Fitness do indivíduo: 0.7025641724660782\n",
            "Quantidade de características selecionadas: 97433. Fitness do indivíduo: 0.7003383151243653\n",
            "Quantidade de características selecionadas: 97580. Fitness do indivíduo: 0.7007793770387871\n",
            "Quantidade de características selecionadas: 97600. Fitness do indivíduo: 0.703422539240858\n",
            "Quantidade de características selecionadas: 97580. Fitness do indivíduo: 0.7018575470723922\n",
            "Quantidade de características selecionadas: 97726. Fitness do indivíduo: 0.7008838282557246\n",
            "Quantidade de características selecionadas: 97681. Fitness do indivíduo: 0.70263282828674\n",
            "Quantidade de características selecionadas: 97718. Fitness do indivíduo: 0.7049457395080063\n"
          ]
        }
      ]
    },
    {
      "cell_type": "code",
      "source": [
        "plot_the_best(melhores_individuos3)"
      ],
      "metadata": {
        "colab": {
          "base_uri": "https://localhost:8080/",
          "height": 472
        },
        "id": "ZUuGWMSpA-XQ",
        "outputId": "42d51eb7-372a-45fd-ccca-959e182ef205"
      },
      "execution_count": 76,
      "outputs": [
        {
          "output_type": "display_data",
          "data": {
            "text/plain": [
              "<Figure size 640x480 with 1 Axes>"
            ],
            "image/png": "[encoded data removed]"
          },
          "metadata": {}
        }
      ]
    }
  ]
}