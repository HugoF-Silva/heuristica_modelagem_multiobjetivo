{
 "cells": [
  {
   "cell_type": "code",
   "execution_count": 4,
   "metadata": {
    "colab": {
     "base_uri": "https://localhost:8080/",
     "height": 424
    },
    "id": "JISKE15APTgg",
    "outputId": "af8545ed-aee7-4839-a328-ec20eee99c06"
   },
   "outputs": [
    {
     "data": {
      "text/html": [
       "<div>\n",
       "<style scoped>\n",
       "    .dataframe tbody tr th:only-of-type {\n",
       "        vertical-align: middle;\n",
       "    }\n",
       "\n",
       "    .dataframe tbody tr th {\n",
       "        vertical-align: top;\n",
       "    }\n",
       "\n",
       "    .dataframe thead th {\n",
       "        text-align: right;\n",
       "    }\n",
       "</style>\n",
       "<table border=\"1\" class=\"dataframe\">\n",
       "  <thead>\n",
       "    <tr style=\"text-align: right;\">\n",
       "      <th></th>\n",
       "      <th>Num-climbers</th>\n",
       "      <th>num-states</th>\n",
       "      <th>alt_max_alcancada</th>\n",
       "      <th>alt_max_possivel</th>\n",
       "      <th>sucesso</th>\n",
       "    </tr>\n",
       "  </thead>\n",
       "  <tbody>\n",
       "    <tr>\n",
       "      <th>0</th>\n",
       "      <td>2</td>\n",
       "      <td>12</td>\n",
       "      <td>3.679203</td>\n",
       "      <td>5.009892</td>\n",
       "      <td>0</td>\n",
       "    </tr>\n",
       "    <tr>\n",
       "      <th>1</th>\n",
       "      <td>2</td>\n",
       "      <td>11</td>\n",
       "      <td>3.661851</td>\n",
       "      <td>4.887836</td>\n",
       "      <td>0</td>\n",
       "    </tr>\n",
       "    <tr>\n",
       "      <th>2</th>\n",
       "      <td>2</td>\n",
       "      <td>13</td>\n",
       "      <td>3.741601</td>\n",
       "      <td>4.718726</td>\n",
       "      <td>0</td>\n",
       "    </tr>\n",
       "    <tr>\n",
       "      <th>3</th>\n",
       "      <td>2</td>\n",
       "      <td>16</td>\n",
       "      <td>2.969643</td>\n",
       "      <td>4.659184</td>\n",
       "      <td>0</td>\n",
       "    </tr>\n",
       "    <tr>\n",
       "      <th>4</th>\n",
       "      <td>2</td>\n",
       "      <td>12</td>\n",
       "      <td>5.356934</td>\n",
       "      <td>5.356934</td>\n",
       "      <td>1</td>\n",
       "    </tr>\n",
       "    <tr>\n",
       "      <th>...</th>\n",
       "      <td>...</td>\n",
       "      <td>...</td>\n",
       "      <td>...</td>\n",
       "      <td>...</td>\n",
       "      <td>...</td>\n",
       "    </tr>\n",
       "    <tr>\n",
       "      <th>795</th>\n",
       "      <td>15</td>\n",
       "      <td>100</td>\n",
       "      <td>3.819092</td>\n",
       "      <td>4.570692</td>\n",
       "      <td>0</td>\n",
       "    </tr>\n",
       "    <tr>\n",
       "      <th>796</th>\n",
       "      <td>15</td>\n",
       "      <td>171</td>\n",
       "      <td>4.657402</td>\n",
       "      <td>4.657402</td>\n",
       "      <td>1</td>\n",
       "    </tr>\n",
       "    <tr>\n",
       "      <th>797</th>\n",
       "      <td>15</td>\n",
       "      <td>125</td>\n",
       "      <td>4.931445</td>\n",
       "      <td>4.931445</td>\n",
       "      <td>1</td>\n",
       "    </tr>\n",
       "    <tr>\n",
       "      <th>798</th>\n",
       "      <td>15</td>\n",
       "      <td>148</td>\n",
       "      <td>4.968618</td>\n",
       "      <td>4.968618</td>\n",
       "      <td>1</td>\n",
       "    </tr>\n",
       "    <tr>\n",
       "      <th>799</th>\n",
       "      <td>15</td>\n",
       "      <td>161</td>\n",
       "      <td>4.690965</td>\n",
       "      <td>4.690965</td>\n",
       "      <td>1</td>\n",
       "    </tr>\n",
       "  </tbody>\n",
       "</table>\n",
       "<p>800 rows × 5 columns</p>\n",
       "</div>"
      ],
      "text/plain": [
       "     Num-climbers  num-states  alt_max_alcancada  alt_max_possivel  sucesso\n",
       "0               2          12           3.679203          5.009892        0\n",
       "1               2          11           3.661851          4.887836        0\n",
       "2               2          13           3.741601          4.718726        0\n",
       "3               2          16           2.969643          4.659184        0\n",
       "4               2          12           5.356934          5.356934        1\n",
       "..            ...         ...                ...               ...      ...\n",
       "795            15         100           3.819092          4.570692        0\n",
       "796            15         171           4.657402          4.657402        1\n",
       "797            15         125           4.931445          4.931445        1\n",
       "798            15         148           4.968618          4.968618        1\n",
       "799            15         161           4.690965          4.690965        1\n",
       "\n",
       "[800 rows x 5 columns]"
      ]
     },
     "execution_count": 4,
     "metadata": {},
     "output_type": "execute_result"
    }
   ],
   "source": [
    "import pandas as pd\n",
    "\n",
    "table = pd.read_csv(\"HillClimbing\", header=6)\n",
    "table = table.drop(labels=['[run number]','[step]'], axis=1)\n",
    "table"
   ]
  },
  {
   "cell_type": "code",
   "execution_count": 5,
   "metadata": {
    "colab": {
     "base_uri": "https://localhost:8080/"
    },
    "id": "Eo2CY5M1dvEC",
    "outputId": "f01d2e4a-683c-45d7-be90-59e43f020651"
   },
   "outputs": [
    {
     "data": {
      "text/plain": [
       "Num-climbers          2.000000\n",
       "num-states           15.800000\n",
       "alt_max_alcancada     3.398761\n",
       "alt_max_possivel      4.800842\n",
       "sucesso               0.120000\n",
       "dtype: float64"
      ]
     },
     "execution_count": 5,
     "metadata": {},
     "output_type": "execute_result"
    }
   ],
   "source": [
    "table[table['Num-climbers']==2].mean()\n",
    "# 12% de sucesso"
   ]
  },
  {
   "cell_type": "code",
   "execution_count": 6,
   "metadata": {
    "colab": {
     "base_uri": "https://localhost:8080/"
    },
    "id": "HVMD8V7Re00o",
    "outputId": "6eea5d25-4a7b-44fd-8d1b-84af181084a5"
   },
   "outputs": [
    {
     "data": {
      "text/plain": [
       "Num-climbers          5.000000\n",
       "num-states           38.600000\n",
       "alt_max_alcancada     4.062770\n",
       "alt_max_possivel      4.783872\n",
       "sucesso               0.315000\n",
       "dtype: float64"
      ]
     },
     "execution_count": 6,
     "metadata": {},
     "output_type": "execute_result"
    }
   ],
   "source": [
    "table[table['Num-climbers']==5].mean()\n",
    "# 31% de sucesso"
   ]
  },
  {
   "cell_type": "code",
   "execution_count": 7,
   "metadata": {
    "colab": {
     "base_uri": "https://localhost:8080/"
    },
    "id": "ZspvncDTe2AD",
    "outputId": "0f73abf0-26dc-49a7-a8b2-0a7cb0faa43d"
   },
   "outputs": [
    {
     "data": {
      "text/plain": [
       "Num-climbers         10.000000\n",
       "num-states           78.190000\n",
       "alt_max_alcancada     4.383495\n",
       "alt_max_possivel      4.835679\n",
       "sucesso               0.465000\n",
       "dtype: float64"
      ]
     },
     "execution_count": 7,
     "metadata": {},
     "output_type": "execute_result"
    }
   ],
   "source": [
    "table[table['Num-climbers']==10].mean()\n",
    "# 46% de sucesso"
   ]
  },
  {
   "cell_type": "code",
   "execution_count": 8,
   "metadata": {
    "colab": {
     "base_uri": "https://localhost:8080/"
    },
    "id": "nBIr6v7le3pL",
    "outputId": "99b0e617-0ed0-4d2c-e213-26e3d422a903"
   },
   "outputs": [
    {
     "data": {
      "text/plain": [
       "Num-climbers          15.000000\n",
       "num-states           116.290000\n",
       "alt_max_alcancada      4.559945\n",
       "alt_max_possivel       4.847101\n",
       "sucesso                0.590000\n",
       "dtype: float64"
      ]
     },
     "execution_count": 8,
     "metadata": {},
     "output_type": "execute_result"
    }
   ],
   "source": [
    "table[table['Num-climbers']==15].mean()\n",
    "# 59% de sucesso! mas acessou em média mais estados"
   ]
  },
  {
   "cell_type": "markdown",
   "metadata": {
    "id": "yPbUHzBKfuO1"
   },
   "source": [
    "# Conclusão\n",
    "\n",
    "Quanto mais agentes, maiores são as chances de que a solução encontrada seja a solução ótima. Em contrapartida, devido a quantidade de agentes, é visto também que cada vez mais estados são acessados no espaço."
   ]
  },
  {
   "cell_type": "code",
   "execution_count": 14,
   "metadata": {
    "scrolled": true
   },
   "outputs": [
    {
     "data": {
      "image/png": "[encoded data removed]",
      "text/plain": [
       "<Figure size 640x480 with 1 Axes>"
      ]
     },
     "metadata": {},
     "output_type": "display_data"
    }
   ],
   "source": [
    "import seaborn as sns\n",
    "sns.set_theme(style=\"ticks\", palette=\"pastel\")\n",
    "\n",
    "# Draw a nested boxplot to show bills by day and time\n",
    "sns.boxplot(x=\"Num-climbers\", y=\"num-states\", palette=[\"m\", \"g\"],\n",
    "            data=table)\n",
    "sns.despine(offset=10, trim=True)"
   ]
  },
  {
   "cell_type": "code",
   "execution_count": 20,
   "metadata": {
    "scrolled": true
   },
   "outputs": [
    {
     "data": {
      "image/png": "[encoded data removed]",
      "text/plain": [
       "<Figure size 640x480 with 1 Axes>"
      ]
     },
     "metadata": {},
     "output_type": "display_data"
    }
   ],
   "source": [
    "# Draw a nested boxplot to show bills by day and time\n",
    "sns.boxplot(x=\"Num-climbers\", y=\"alt_max_alcancada\", palette=[\"m\", \"g\"],\n",
    "            data=table)\n",
    "sns.despine(offset=10, trim=True)"
   ]
  },
  {
   "cell_type": "code",
   "execution_count": 17,
   "metadata": {
    "scrolled": true
   },
   "outputs": [
    {
     "data": {
      "image/png": "[encoded data removed]",
      "text/plain": [
       "<Figure size 640x480 with 1 Axes>"
      ]
     },
     "metadata": {},
     "output_type": "display_data"
    }
   ],
   "source": [
    "# Draw a nested boxplot to show bills by day and time\n",
    "sns.boxplot(x=\"Num-climbers\", y=\"alt_max_possivel\", palette=[\"m\", \"g\"],\n",
    "            data=table)\n",
    "sns.despine(offset=10, trim=True)"
   ]
  },
  {
   "cell_type": "code",
   "execution_count": 29,
   "metadata": {},
   "outputs": [
    {
     "data": {
      "text/plain": [
       "<seaborn.axisgrid.FacetGrid at 0x7f7cf5d25550>"
      ]
     },
     "execution_count": 29,
     "metadata": {},
     "output_type": "execute_result"
    },
    {
     "data": {
      "image/png": "[encoded data removed]",
      "text/plain": [
       "<Figure size 600x600 with 1 Axes>"
      ]
     },
     "metadata": {},
     "output_type": "display_data"
    }
   ],
   "source": [
    "# Draw a nested barplot by species and sex\n",
    "g = sns.catplot(\n",
    "    data=table, kind=\"bar\",\n",
    "    x=\"Num-climbers\", y=\"sucesso\", palette=\"dark\", alpha=.6, height=6\n",
    ")\n",
    "g.despine(left=True)"
   ]
  }
 ],
 "metadata": {
  "colab": {
   "provenance": []
  },
  "kernelspec": {
   "display_name": "Python 3 (ipykernel)",
   "language": "python",
   "name": "python3"
  },
  "language_info": {
   "codemirror_mode": {
    "name": "ipython",
    "version": 3
   },
   "file_extension": ".py",
   "mimetype": "text/x-python",
   "name": "python",
   "nbconvert_exporter": "python",
   "pygments_lexer": "ipython3",
   "version": "3.11.3"
  }
 },
 "nbformat": 4,
 "nbformat_minor": 4
}
